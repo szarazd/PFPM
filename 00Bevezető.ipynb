{
 "cells": [
  {
   "cell_type": "markdown",
   "id": "049050cd",
   "metadata": {},
   "source": [
    "# Python Bevezetés: Adattípusok, Ciklusok, Könyvtárak"
   ]
  },
  {
   "cell_type": "markdown",
   "id": "2c7b16cf",
   "metadata": {},
   "source": [
    "## 1. Ciklusok"
   ]
  },
  {
   "cell_type": "code",
   "execution_count": 1,
   "id": "d502b164",
   "metadata": {},
   "outputs": [
    {
     "name": "stdout",
     "output_type": "stream",
     "text": [
      "Iteráció 0\n",
      "Iteráció 1\n",
      "Iteráció 2\n",
      "Iteráció 3\n",
      "Iteráció 4\n",
      "\n",
      "Iteráció 0\n",
      "Iteráció 2\n",
      "Iteráció 4\n"
     ]
    }
   ],
   "source": [
    "# For Loop Example\n",
    "for i in range(5):\n",
    "    print(f'Iteráció {i}')\n",
    "print()\n",
    "for i in range(5):\n",
    "    if(i%2==0):\n",
    "        print(f'Iteráció {i}')"
   ]
  },
  {
   "cell_type": "code",
   "execution_count": 2,
   "id": "02d9ef4f",
   "metadata": {},
   "outputs": [
    {
     "name": "stdout",
     "output_type": "stream",
     "text": [
      "Count: 0\n",
      "Count: 1\n",
      "Count: 2\n",
      "Count: 3\n",
      "Count: 4\n"
     ]
    }
   ],
   "source": [
    "# While Loop Example\n",
    "count = 0\n",
    "while count < 5:\n",
    "    print(f'Count: {count}')\n",
    "    count += 1"
   ]
  },
  {
   "cell_type": "markdown",
   "id": "0dde0a3a",
   "metadata": {},
   "source": [
    "## 2. Alap Python adattípusok"
   ]
  },
  {
   "cell_type": "code",
   "execution_count": 3,
   "id": "d677eecd",
   "metadata": {},
   "outputs": [
    {
     "name": "stdout",
     "output_type": "stream",
     "text": [
      "List: [1, 2, 3, 4, 5]\n",
      "Dictionary: {'a': 1, 'b': 2, 'c': 3}\n",
      "Tuple: (10, 20, 30)\n",
      "Set: {1, 2, 3, 4, 5}\n"
     ]
    }
   ],
   "source": [
    "# Lists\n",
    "my_list = [1, 2, 3, 4, 5]\n",
    "print('List:', my_list)\n",
    "\n",
    "# Dictionaries\n",
    "my_dict = {'a': 1, 'b': 2, 'c': 3}\n",
    "print('Dictionary:', my_dict)\n",
    "\n",
    "# Tuples\n",
    "my_tuple = (10, 20, 30)\n",
    "print('Tuple:', my_tuple)\n",
    "\n",
    "# Sets\n",
    "my_set = {1, 2, 3, 4, 4, 5}\n",
    "print('Set:', my_set)"
   ]
  },
  {
   "cell_type": "markdown",
   "id": "edb06813",
   "metadata": {},
   "source": [
    "## 3. NumPy Array-ek"
   ]
  },
  {
   "cell_type": "code",
   "execution_count": 4,
   "id": "f745c61a",
   "metadata": {},
   "outputs": [
    {
     "name": "stdout",
     "output_type": "stream",
     "text": [
      "Lista összegzés: 0.05172 seconds\n",
      "Array összegzés: 0.00414 seconds\n"
     ]
    }
   ],
   "source": [
    "import numpy as np\n",
    "import time\n",
    "\n",
    "# Create large list and numpy array\n",
    "size = int(1e7)\n",
    "python_list = list(range(size))\n",
    "numpy_array = np.arange(size)\n",
    "\n",
    "# Measure list sum time\n",
    "start = time.time()\n",
    "sum(python_list)\n",
    "end = time.time()\n",
    "print(f\"Lista összegzés: {end - start:.5f} seconds\")\n",
    "\n",
    "# Measure NumPy sum time\n",
    "start = time.time()\n",
    "np.sum(numpy_array)\n",
    "end = time.time()\n",
    "print(f\"Array összegzés: {end - start:.5f} seconds\")"
   ]
  },
  {
   "cell_type": "markdown",
   "id": "a88fed2e",
   "metadata": {},
   "source": [
    "## 4. Random Szám Generálás"
   ]
  },
  {
   "cell_type": "code",
   "execution_count": 5,
   "id": "2e687b02",
   "metadata": {},
   "outputs": [
    {
     "name": "stdout",
     "output_type": "stream",
     "text": [
      "Random integer: 18\n",
      "Random float: 0.0035849029880740124\n",
      "Radnom NumPy array: [0.52994371 0.5380819  0.49262314 0.23604261 0.33452058]\n"
     ]
    }
   ],
   "source": [
    "import random\n",
    "\n",
    "# Generate a random integer\n",
    "rand_int = random.randint(1, 100)\n",
    "print('Random integer:', rand_int)\n",
    "\n",
    "# Generate a random float\n",
    "rand_float = random.random()\n",
    "print('Random float:', rand_float)\n",
    "\n",
    "# NumPy Random Numbers\n",
    "rand_np = np.random.rand(5)\n",
    "print('Radnom NumPy array:', rand_np)"
   ]
  },
  {
   "cell_type": "markdown",
   "id": "2d026cc1",
   "metadata": {},
   "source": [
    "# **Feladat 0:  Listák Szorzása**\n",
    "\n",
    " ### 1. Generáljunk két listát, egyenként egymillió véletlen számot tartalmazva.\n",
    " ### 2. Számítsuk ki a listák elemenkénti szorzatát.\n",
    " ### 3. Írassuk ki:\n",
    "    a) Az első 10 elemet\n",
    "    b) A 240. és 250. index közötti elemeket\n",
    "    c) Az utolsó elemet\n",
    " ### 4. Számítsuk ki a skaláris szorzatot:\n",
    "    - Egy Python lista (`my_list`) segítségével\n",
    "    - Egy NumPy array (`my_array`) segítségével\n"
   ]
  },
  {
   "cell_type": "code",
   "execution_count": 6,
   "id": "5ea84d31",
   "metadata": {},
   "outputs": [
    {
     "name": "stdout",
     "output_type": "stream",
     "text": [
      "Lista szorzás (nem optimalizált): 0.2185368538 s\n",
      "Első 10 elem: [4316, 4836, 1275, 2016, 5612, 651, 498, 1566, 7275, 6900]\n",
      "Elemek (240-250): [728, 1411, 3572, 336, 4623, 4508, 5320, 1204, 451, 848, 2910]\n",
      "Utolsó elem: 1978\n",
      "Lista szorzás (optimalizált): 0.0000708103 s\n",
      "Array szorzás: 0.0000374317 s\n"
     ]
    }
   ],
   "source": [
    "import numpy as np\n",
    "import time\n",
    "\n",
    "# Step 1: Generate two random lists with 100000 elements each\n",
    "N=int(1e6)\n",
    "np.random.seed(42)  # For reproducibility\n",
    "list1 = np.random.randint(1, 100, N)\n",
    "list2 = np.random.randint(1, 100, N)\n",
    "\n",
    "# Compute pair-wise multiplication\n",
    "start_time_list = time.time()\n",
    "result_list = [list1[i] * list2[i] for i in range(N)]\n",
    "end_time_list = time.time()\n",
    "time_list = end_time_list - start_time_list\n",
    "print(f\"Lista szorzás (nem optimalizált): {time_list:.10f} s\")\n",
    "\n",
    "# Step 2: Display required elements\n",
    "print(\"Első 10 elem:\", result_list[:10])\n",
    "print(\"Elemek (240-250):\", result_list[240:251])\n",
    "print(\"Utolsó elem:\", result_list[-1])\n",
    "\n",
    "# Step 3: Scalar product using Python list\n",
    "my_list1 = list1[:10]  # Example with first 10 elements\n",
    "my_list2 = list2[:10]\n",
    "\n",
    "start_time_list = time.time()\n",
    "scalar_product_list = sum(a * b for a, b in zip(my_list1, my_list2))\n",
    "end_time_list = time.time()\n",
    "time_list = end_time_list - start_time_list\n",
    "\n",
    "print(f\"Lista szorzás (optimalizált): {time_list:.10f} s\")\n",
    "\n",
    "# Scalar product using NumPy array\n",
    "my_array1 = np.array(my_list1)\n",
    "my_array2 = np.array(my_list2)\n",
    "\n",
    "start_time_array = time.time()\n",
    "scalar_product_array = np.dot(my_array1, my_array2)\n",
    "end_time_array = time.time()\n",
    "time_array = end_time_array - start_time_array\n",
    "\n",
    "print(f\"Array szorzás: {time_array:.10f} s\")\n"
   ]
  },
  {
   "cell_type": "markdown",
   "id": "51a68bda",
   "metadata": {},
   "source": [
    "## 5. Adatvizualizáció (Matplotlib)"
   ]
  },
  {
   "cell_type": "code",
   "execution_count": 7,
   "id": "1e0d0ba6",
   "metadata": {},
   "outputs": [
    {
     "data": {
      "image/png": "[encoded data removed]",
      "text/plain": [
       "<Figure size 800x500 with 1 Axes>"
      ]
     },
     "metadata": {},
     "output_type": "display_data"
    }
   ],
   "source": [
    "import matplotlib.pyplot as plt\n",
    "\n",
    "# Generate data\n",
    "x = np.linspace(0, 10, 100)\n",
    "y = np.sin(x)\n",
    "\n",
    "# Create plot\n",
    "plt.figure(figsize=(8, 5))\n",
    "plt.plot(x, y, label='sin(x)')\n",
    "plt.xlabel('x')\n",
    "plt.ylabel('y')\n",
    "plt.title('Szinusz hullám')\n",
    "plt.legend()\n",
    "plt.show()"
   ]
  },
  {
   "cell_type": "markdown",
   "id": "0f93fe87",
   "metadata": {},
   "source": [
    "## 6. Pandas"
   ]
  },
  {
   "cell_type": "code",
   "execution_count": 8,
   "id": "e1360cce",
   "metadata": {},
   "outputs": [
    {
     "data": {
      "text/html": [
       "<div>\n",
       "<style scoped>\n",
       "    .dataframe tbody tr th:only-of-type {\n",
       "        vertical-align: middle;\n",
       "    }\n",
       "\n",
       "    .dataframe tbody tr th {\n",
       "        vertical-align: top;\n",
       "    }\n",
       "\n",
       "    .dataframe thead th {\n",
       "        text-align: right;\n",
       "    }\n",
       "</style>\n",
       "<table border=\"1\" class=\"dataframe\">\n",
       "  <thead>\n",
       "    <tr style=\"text-align: right;\">\n",
       "      <th></th>\n",
       "      <th>Név</th>\n",
       "      <th>Kor</th>\n",
       "      <th>Pontszám</th>\n",
       "    </tr>\n",
       "  </thead>\n",
       "  <tbody>\n",
       "    <tr>\n",
       "      <th>0</th>\n",
       "      <td>Alice</td>\n",
       "      <td>25</td>\n",
       "      <td>90</td>\n",
       "    </tr>\n",
       "    <tr>\n",
       "      <th>1</th>\n",
       "      <td>Bob</td>\n",
       "      <td>30</td>\n",
       "      <td>85</td>\n",
       "    </tr>\n",
       "    <tr>\n",
       "      <th>2</th>\n",
       "      <td>Charlie</td>\n",
       "      <td>35</td>\n",
       "      <td>88</td>\n",
       "    </tr>\n",
       "  </tbody>\n",
       "</table>\n",
       "</div>"
      ],
      "text/plain": [
       "       Név  Kor  Pontszám\n",
       "0    Alice   25        90\n",
       "1      Bob   30        85\n",
       "2  Charlie   35        88"
      ]
     },
     "metadata": {},
     "output_type": "display_data"
    },
    {
     "name": "stdout",
     "output_type": "stream",
     "text": [
      "Átlag életkor: 30.0\n"
     ]
    }
   ],
   "source": [
    "import pandas as pd\n",
    "\n",
    "# Create DataFrame\n",
    "data = {'Név': ['Alice', 'Bob', 'Charlie'],\n",
    "        'Kor': [25, 30, 35],\n",
    "        'Pontszám': [90, 85, 88]}\n",
    "\n",
    "df = pd.DataFrame(data)\n",
    "display(df)\n",
    "\n",
    "# Basic DataFrame operations\n",
    "print('Átlag életkor:', df['Kor'].mean())"
   ]
  },
  {
   "cell_type": "markdown",
   "id": "b57e6df7",
   "metadata": {},
   "source": [
    "## 7. Függvények"
   ]
  },
  {
   "cell_type": "code",
   "execution_count": 9,
   "id": "12fee50c",
   "metadata": {},
   "outputs": [
    {
     "name": "stdout",
     "output_type": "stream",
     "text": [
      "Gyök (Python): 1.414214\n",
      "Gyök (Scipy): 1.414214\n"
     ]
    }
   ],
   "source": [
    "from scipy.optimize import newton\n",
    "\n",
    "# Example: Newton's Method for Finding Roots\n",
    "def newton_method(f, df, x0, tol=1e-6, max_iter=100):\n",
    "    x = x0\n",
    "    for i in range(max_iter):\n",
    "        x_new = x - f(x) / df(x)\n",
    "        if abs(x_new - x) < tol:\n",
    "            return x_new\n",
    "        x = x_new\n",
    "    return x\n",
    "\n",
    "# Example function f(x) = x^2 - 2\n",
    "f = lambda x: x**2 - 2\n",
    "df = lambda x: 2*x\n",
    "\n",
    "root = newton_method(f, df, x0=1.0)\n",
    "print(f'Gyök (Python): {root:.6f}')\n",
    "root = newton(f,1.0,df)\n",
    "print(f'Gyök (Scipy): {root:.6f}')\n"
   ]
  },
  {
   "cell_type": "code",
   "execution_count": 10,
   "id": "9e903a96",
   "metadata": {},
   "outputs": [
    {
     "name": "stdout",
     "output_type": "stream",
     "text": [
      "Minimum: x = 3.0000\n"
     ]
    }
   ],
   "source": [
    "from scipy.optimize import minimize\n",
    "\n",
    "# Example function to minimize: f(x) = (x - 3)^2 + 4\n",
    "func = lambda x: (x - 3)**2 + 4\n",
    "\n",
    "result = minimize(func, x0=0)\n",
    "print(f'Minimum: x = {result.x[0]:.4f}')"
   ]
  },
  {
   "cell_type": "markdown",
   "id": "f43825f6",
   "metadata": {},
   "source": [
    "## 8. Interpoláció"
   ]
  },
  {
   "cell_type": "code",
   "execution_count": 11,
   "id": "1c1a3f43",
   "metadata": {},
   "outputs": [
    {
     "name": "stdout",
     "output_type": "stream",
     "text": [
      "Interpolált érték (x=2.5): 10.0\n"
     ]
    }
   ],
   "source": [
    "from scipy.interpolate import interp1d\n",
    "\n",
    "# Given data points\n",
    "x = [0, 1, 2, 3, 4]\n",
    "y = [1, 3, 7, 13, 21]\n",
    "\n",
    "# Create linear interpolator\n",
    "f_linear = interp1d(x, y, kind='linear')\n",
    "\n",
    "# Predict value at x=2.5\n",
    "y_interp = f_linear(2.5)\n",
    "print(f'Interpolált érték (x=2.5): {y_interp}')"
   ]
  },
  {
   "cell_type": "markdown",
   "id": "c5e57d88",
   "metadata": {},
   "source": [
    "## 10. Integrálás"
   ]
  },
  {
   "cell_type": "code",
   "execution_count": 12,
   "id": "4bfc1b52",
   "metadata": {},
   "outputs": [
    {
     "name": "stdout",
     "output_type": "stream",
     "text": [
      "Integrál érték: 2.6667\n"
     ]
    }
   ],
   "source": [
    "from scipy.integrate import quad\n",
    "\n",
    "# Define function to integrate\n",
    "f = lambda x: x**2\n",
    "\n",
    "# Integrate from 0 to 2\n",
    "result, error = quad(f, 0, 2)\n",
    "print(f'Integrál érték: {result:.4f}')"
   ]
  },
  {
   "cell_type": "markdown",
   "id": "69bde0eb",
   "metadata": {},
   "source": [
    "## 11. Tipikus Python Hibák"
   ]
  },
  {
   "cell_type": "code",
   "execution_count": 13,
   "id": "6b886a27",
   "metadata": {},
   "outputs": [
    {
     "name": "stdout",
     "output_type": "stream",
     "text": [
      "[1]\n",
      "[1, 2]\n",
      "[1]\n",
      "[2]\n"
     ]
    }
   ],
   "source": [
    "# Bad practice: Mutable default argument\n",
    "def bad_append(value, my_list=[]):\n",
    "    my_list.append(value)\n",
    "    return my_list\n",
    "\n",
    "print(bad_append(1))  # [1]\n",
    "print(bad_append(2))  # [1, 2] -- Unwanted behavior!\n",
    "\n",
    "# Good practice\n",
    "def good_append(value, my_list=None):\n",
    "    if my_list is None:\n",
    "        my_list = []\n",
    "    my_list.append(value)\n",
    "    return my_list\n",
    "\n",
    "print(good_append(1))  # [1]\n",
    "print(good_append(2))  # [2]"
   ]
  },
  {
   "cell_type": "code",
   "execution_count": 14,
   "id": "d263a098",
   "metadata": {},
   "outputs": [
    {
     "name": "stdout",
     "output_type": "stream",
     "text": [
      "0.1 + 0.2 = 0.3? False\n",
      "math.isclose: True\n"
     ]
    }
   ],
   "source": [
    "# Floating-point precision issue\n",
    "a = 0.1 + 0.2\n",
    "print(f'0.1 + 0.2 = 0.3? {a == 0.3}')  # False due to precision error!\n",
    "\n",
    "# Correct approach: Using math.isclose()\n",
    "import math\n",
    "print(f'math.isclose: {math.isclose(a, 0.3, rel_tol=1e-9)}')"
   ]
  },
  {
   "cell_type": "code",
   "execution_count": 15,
   "id": "f65f4b3b",
   "metadata": {},
   "outputs": [
    {
     "name": "stdout",
     "output_type": "stream",
     "text": [
      "Rossz implementáció: 0.2440 seconds\n",
      "Effektív(ebb) implementáció: 0.2059 seconds\n"
     ]
    }
   ],
   "source": [
    "import time\n",
    "\n",
    "# Bad practice: Inefficient looping\n",
    "start = time.time()\n",
    "squares = []\n",
    "for i in range(int(1e6)):\n",
    "    squares.append(i ** 2)\n",
    "end = time.time()\n",
    "print(f\"Rossz implementáció: {end - start:.4f} seconds\")\n",
    "\n",
    "# Good practice: List comprehensions\n",
    "start = time.time()\n",
    "squares = [i ** 2 for i in range(int(1e6))]\n",
    "end = time.time()\n",
    "print(f\"Effektív(ebb) implementáció: {end - start:.4f} seconds\")"
   ]
  },
  {
   "cell_type": "code",
   "execution_count": 16,
   "id": "994fd45d",
   "metadata": {},
   "outputs": [
    {
     "name": "stdout",
     "output_type": "stream",
     "text": [
      "Random matrix saved to 'random_matrix.csv'\n"
     ]
    },
    {
     "data": {
      "image/png": "[encoded data removed]",
      "text/plain": [
       "<Figure size 800x500 with 2 Axes>"
      ]
     },
     "metadata": {},
     "output_type": "display_data"
    },
    {
     "data": {
      "text/html": [
       "<div>\n",
       "<style scoped>\n",
       "    .dataframe tbody tr th:only-of-type {\n",
       "        vertical-align: middle;\n",
       "    }\n",
       "\n",
       "    .dataframe tbody tr th {\n",
       "        vertical-align: top;\n",
       "    }\n",
       "\n",
       "    .dataframe thead th {\n",
       "        text-align: right;\n",
       "    }\n",
       "</style>\n",
       "<table border=\"1\" class=\"dataframe\">\n",
       "  <thead>\n",
       "    <tr style=\"text-align: right;\">\n",
       "      <th></th>\n",
       "      <th>Oszlop_1</th>\n",
       "      <th>Oszlop_2</th>\n",
       "      <th>Oszlop_3</th>\n",
       "      <th>Oszlop_4</th>\n",
       "      <th>Oszlop_5</th>\n",
       "    </tr>\n",
       "  </thead>\n",
       "  <tbody>\n",
       "    <tr>\n",
       "      <th>0</th>\n",
       "      <td>0.718874</td>\n",
       "      <td>0.445168</td>\n",
       "      <td>0.178813</td>\n",
       "      <td>0.904104</td>\n",
       "      <td>0.573864</td>\n",
       "    </tr>\n",
       "    <tr>\n",
       "      <th>1</th>\n",
       "      <td>0.975871</td>\n",
       "      <td>0.251519</td>\n",
       "      <td>0.348056</td>\n",
       "      <td>0.236354</td>\n",
       "      <td>0.001323</td>\n",
       "    </tr>\n",
       "    <tr>\n",
       "      <th>2</th>\n",
       "      <td>0.863494</td>\n",
       "      <td>0.811014</td>\n",
       "      <td>0.861785</td>\n",
       "      <td>0.069934</td>\n",
       "      <td>0.912123</td>\n",
       "    </tr>\n",
       "    <tr>\n",
       "      <th>3</th>\n",
       "      <td>0.309060</td>\n",
       "      <td>0.421010</td>\n",
       "      <td>0.866796</td>\n",
       "      <td>0.306259</td>\n",
       "      <td>0.475099</td>\n",
       "    </tr>\n",
       "    <tr>\n",
       "      <th>4</th>\n",
       "      <td>0.468079</td>\n",
       "      <td>0.525578</td>\n",
       "      <td>0.741291</td>\n",
       "      <td>0.406930</td>\n",
       "      <td>0.756904</td>\n",
       "    </tr>\n",
       "    <tr>\n",
       "      <th>5</th>\n",
       "      <td>0.400054</td>\n",
       "      <td>0.978538</td>\n",
       "      <td>0.272296</td>\n",
       "      <td>0.187099</td>\n",
       "      <td>0.650812</td>\n",
       "    </tr>\n",
       "    <tr>\n",
       "      <th>6</th>\n",
       "      <td>0.729168</td>\n",
       "      <td>0.826906</td>\n",
       "      <td>0.891206</td>\n",
       "      <td>0.684544</td>\n",
       "      <td>0.828316</td>\n",
       "    </tr>\n",
       "    <tr>\n",
       "      <th>7</th>\n",
       "      <td>0.297727</td>\n",
       "      <td>0.169606</td>\n",
       "      <td>0.695691</td>\n",
       "      <td>0.485714</td>\n",
       "      <td>0.206057</td>\n",
       "    </tr>\n",
       "    <tr>\n",
       "      <th>8</th>\n",
       "      <td>0.213560</td>\n",
       "      <td>0.015129</td>\n",
       "      <td>0.504202</td>\n",
       "      <td>0.468283</td>\n",
       "      <td>0.896449</td>\n",
       "    </tr>\n",
       "    <tr>\n",
       "      <th>9</th>\n",
       "      <td>0.971748</td>\n",
       "      <td>0.400864</td>\n",
       "      <td>0.413643</td>\n",
       "      <td>0.113559</td>\n",
       "      <td>0.181495</td>\n",
       "    </tr>\n",
       "  </tbody>\n",
       "</table>\n",
       "</div>"
      ],
      "text/plain": [
       "   Oszlop_1  Oszlop_2  Oszlop_3  Oszlop_4  Oszlop_5\n",
       "0  0.718874  0.445168  0.178813  0.904104  0.573864\n",
       "1  0.975871  0.251519  0.348056  0.236354  0.001323\n",
       "2  0.863494  0.811014  0.861785  0.069934  0.912123\n",
       "3  0.309060  0.421010  0.866796  0.306259  0.475099\n",
       "4  0.468079  0.525578  0.741291  0.406930  0.756904\n",
       "5  0.400054  0.978538  0.272296  0.187099  0.650812\n",
       "6  0.729168  0.826906  0.891206  0.684544  0.828316\n",
       "7  0.297727  0.169606  0.695691  0.485714  0.206057\n",
       "8  0.213560  0.015129  0.504202  0.468283  0.896449\n",
       "9  0.971748  0.400864  0.413643  0.113559  0.181495"
      ]
     },
     "metadata": {},
     "output_type": "display_data"
    }
   ],
   "source": [
    "import pandas as pd\n",
    "import numpy as np\n",
    "import seaborn as sns\n",
    "import matplotlib.pyplot as plt\n",
    "\n",
    "# Generate a random matrix\n",
    "rows, cols = 10, 5\n",
    "random_matrix = np.random.rand(rows, cols)\n",
    "\n",
    "# Convert to DataFrame\n",
    "df = pd.DataFrame(random_matrix, columns=[f'Oszlop_{i+1}' for i in range(cols)])\n",
    "\n",
    "# Save to CSV\n",
    "df.to_csv('random_matrix.csv', index=False)\n",
    "print(\"Random matrix saved to 'random_matrix.csv'\")\n",
    "\n",
    "# Load the saved CSV\n",
    "df_loaded = pd.read_csv('random_matrix.csv')\n",
    "\n",
    "# Plot using Seaborn heatmap\n",
    "plt.figure(figsize=(8, 5))\n",
    "sns.heatmap(df_loaded, annot=True, cmap='viridis', fmt=\".2f\")\n",
    "plt.title('Hőtérkép CSV-ből')\n",
    "plt.show()\n",
    "display(df)"
   ]
  },
  {
   "cell_type": "markdown",
   "id": "fc17887a",
   "metadata": {},
   "source": [
    "## 12. Gyakorlás"
   ]
  },
  {
   "cell_type": "markdown",
   "id": "bede12c4",
   "metadata": {},
   "source": [
    "### Feladat 1: Gyökkeresés felező módszerrel\n",
    "Keresd meg a `f(x) = x^3 - 4x - 9` egyenlet egyik gyökét a felező (bisection) módszerrel.\n",
    "\n",
    "### Feladat 2: Matplotlib Ábra\n",
    "Ábrázold a `f(x) = x^3 - 6x^2 + 4x + 12` függvényt a [-2, 5] intervallumon."
   ]
  },
  {
   "cell_type": "markdown",
   "id": "864bce2a",
   "metadata": {},
   "source": [
    "## 13. Feladat 1: Megoldás"
   ]
  },
  {
   "cell_type": "code",
   "execution_count": 17,
   "id": "02c0f8ea",
   "metadata": {},
   "outputs": [
    {
     "name": "stdout",
     "output_type": "stream",
     "text": [
      "Saját implementáció: 2.706528\n",
      "SciPy: 2.706528\n"
     ]
    }
   ],
   "source": [
    "# Implementing the Bisection Method\n",
    "def bisection_method(f, a, b, tol=1e-6, max_iter=100):\n",
    "    if f(a) * f(b) >= 0:\n",
    "        raise ValueError(\"Function values at interval endpoints must have opposite signs\")\n",
    "    \n",
    "    for _ in range(max_iter):\n",
    "        c = (a + b) / 2\n",
    "        if abs(f(c)) < tol:\n",
    "            return c\n",
    "        elif f(a) * f(c) < 0:\n",
    "            b = c\n",
    "        else:\n",
    "            a = c\n",
    "    return c\n",
    "\n",
    "# Test the function\n",
    "f = lambda x: x**3 - 4*x - 9\n",
    "root = bisection_method(f, 2, 3)\n",
    "print(f'Saját implementáció: {root:.6f}')\n",
    "\n",
    "from scipy.optimize import bisect\n",
    "\n",
    "# Find root using SciPy's bisect function\n",
    "root_scipy = bisect(f, 2, 3)\n",
    "print(f'SciPy: {root_scipy:.6f}')\n"
   ]
  },
  {
   "cell_type": "markdown",
   "id": "9a74fb4c",
   "metadata": {},
   "source": [
    "## 14. Feladat 2: megoldás"
   ]
  },
  {
   "cell_type": "code",
   "execution_count": 18,
   "id": "96cca949",
   "metadata": {},
   "outputs": [
    {
     "data": {
      "image/png": "[encoded data removed]",
      "text/plain": [
       "<Figure size 800x500 with 1 Axes>"
      ]
     },
     "metadata": {},
     "output_type": "display_data"
    }
   ],
   "source": [
    "# Define function\n",
    "def f(x):\n",
    "    return x**3 - 6*x**2 + 4*x + 12\n",
    "\n",
    "# Generate x values\n",
    "x = np.linspace(-2, 5, 100)\n",
    "y = f(x)\n",
    "\n",
    "# Plot function\n",
    "plt.figure(figsize=(8, 5))\n",
    "plt.plot(x, y, label='f(x) = x³ - 6x² + 4x + 12', color='red')\n",
    "plt.axhline(0, color='black', linestyle='--', linewidth=0.8)\n",
    "plt.axvline(0, color='black', linestyle='--', linewidth=0.8)\n",
    "plt.xlabel('x')\n",
    "plt.ylabel('f(x)')\n",
    "plt.title('Ábra')\n",
    "plt.xlim(-2,5)\n",
    "plt.legend()\n",
    "plt.grid(True)\n",
    "plt.show()"
   ]
  },
  {
   "cell_type": "code",
   "execution_count": null,
   "id": "2bea2c22",
   "metadata": {},
   "outputs": [],
   "source": []
  }
 ],
 "metadata": {
  "kernelspec": {
   "display_name": "Python 3 (ipykernel)",
   "language": "python",
   "name": "python3"
  },
  "language_info": {
   "codemirror_mode": {
    "name": "ipython",
    "version": 3
   },
   "file_extension": ".py",
   "mimetype": "text/x-python",
   "name": "python",
   "nbconvert_exporter": "python",
   "pygments_lexer": "ipython3",
   "version": "3.10.12"
  }
 },
 "nbformat": 4,
 "nbformat_minor": 5
}
